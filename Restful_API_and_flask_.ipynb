{
  "cells": [
    {
      "cell_type": "markdown",
      "metadata": {
        "id": "_xRQZg3mclwS"
      },
      "source": [
        "# Theoretical Questions"
      ]
    },
    {
      "cell_type": "markdown",
      "metadata": {
        "id": "fUAEFwB1ctdb"
      },
      "source": [
        "1.What is a RESTful API\n",
        "- A RESTful API (Representational State Transfer Application Programming Interface) is a way for different software systems to communicate with each other over the web using a set of rules based on the principles of REST (Representational State Transfer). REST is an architectural style that leverages HTTP to perform operations on resources, making APIs simple, scalable, and stateless."
      ]
    },
    {
      "cell_type": "markdown",
      "metadata": {
        "id": "63BE92OddGeH"
      },
      "source": [
        "2.Explain the concept of API specification\n",
        "- An API specification is a detailed document (or file) that defines how an API works, providing a blueprint for developers to understand how to interact with it. Think of it as a contract between the API provider and consumers, ensuring everyone knows what to expect. Let’s break it down:\n",
        "Why Have an API Specification?\n",
        "  - Ensures consistency and clarity.\n",
        "\n",
        "  - Acts as a guide for developers, reducing misunderstandings.\n",
        "\n",
        "  - Enables tools to generate code, documentation, and tests automatically.\n",
        "\n",
        "What Does It Include?\n",
        "- Endpoints (Routes):\n",
        "These are the URLs clients can call.\n",
        "\n",
        "example:-\n"
      ]
    },
    {
      "cell_type": "code",
      "execution_count": null,
      "metadata": {
        "id": "PPr80BZWhZV0"
      },
      "outputs": [],
      "source": [
        "GET /users\n",
        "POST /users\n",
        "GET /users/{id}\n"
      ]
    },
    {
      "cell_type": "markdown",
      "metadata": {
        "id": "v97sT6fPha6E"
      },
      "source": [
        "3.What is Flask, and why is it popular for building APIs\n",
        "- Flask is a lightweight web framework for Python that makes it easy to build web applications and APIs. It’s known for its simplicity and flexibility, making it a favorite among developers who want to build APIs quickly without unnecessary complexity. Let’s break down why Flask is so popular for building APIs:\n",
        "\n",
        "Why is Flask Popular for Building APIs?\n",
        "\n",
        "- implicity and Minimalism:\n",
        "\n",
        "- Flask gives you only what you need to get started, letting you build as much (or as little) as you want.\n",
        "\n",
        "- A basic API can be written in just a few lines of code.\n",
        "\n"
      ]
    },
    {
      "cell_type": "markdown",
      "metadata": {
        "id": "LLGrFW5kh7fC"
      },
      "source": [
        "4.What is routing in Flask\n",
        "- In Flask, routing refers to the process of defining how your application responds to different URL paths requested by the client (usually a browser). When a user visits a specific URL, Flask needs to know what code (usually a function) should run to handle that request — this is what routing sets up.\n",
        "\n",
        "How it works\n",
        "\n",
        "EXAMPLE"
      ]
    },
    {
      "cell_type": "code",
      "execution_count": null,
      "metadata": {
        "id": "bkDvJXr3tdg0"
      },
      "outputs": [],
      "source": [
        "from flask import Flask\n",
        "\n",
        "app = Flask(__name__)\n",
        "\n",
        "@app.route('/')\n",
        "def home():\n",
        "    return 'Hello, World!'\n",
        "\n",
        "@app.route('/about')\n",
        "def about():\n",
        "    return 'This is the about page.'\n"
      ]
    },
    {
      "cell_type": "markdown",
      "metadata": {
        "id": "L4dVadahtk88"
      },
      "source": [
        "5.How do you create a simple Flask application\n",
        "- A Flask application is a web application built using the Flask framework, which is a lightweight and flexible micro web framework written in Python. It allows developers to build web apps quickly with minimal setup.\n",
        "\n",
        " Core Components of a Simple Flask App:\n",
        "  - Flask App Instance\n",
        "\n",
        "    - The application starts by creating an instance of the Flask class.\n",
        "\n",
        "    - This instance acts as the central registry for your web app.\n",
        "\n",
        "  - Routing\n",
        "\n",
        "    - Routes are used to define URL patterns and link them to specific Python functions.\n",
        "\n",
        "    - When a user accesses a certain URL, the corresponding function (called a view function) is executed.\n",
        "\n",
        "  - View Functions\n",
        "\n",
        "    - These are Python functions that return the response the user sees (like text, HTML, JSON, etc.).\n",
        "\n",
        "    - They are linked to routes using decorators (like @app.route())."
      ]
    },
    {
      "cell_type": "markdown",
      "metadata": {
        "id": "ZkhnOtK_ufFa"
      },
      "source": [
        "6.What are HTTP methods used in RESTful APIs\n",
        "- In RESTful APIs, HTTP methods define the kind of operation the client wants to perform on a resource. Here are the most commonly used methods:\n",
        "\n",
        "1.GET\n",
        "  - Purpose: Retrieve data from the server.\n",
        "\n",
        "  - Example: Get a list of users or fetch a specific user.\n",
        "\n",
        "  - Safe & idempotent: Doesn’t change data on the server.\n",
        "\n",
        "2.POST\n",
        "  - Purpose: Create a new resource.\n",
        "\n",
        "  - Example: Add a new user.\n",
        "\n",
        "  - Not idempotent: Sending the same request multiple times may create duplicates."
      ]
    },
    {
      "cell_type": "markdown",
      "metadata": {
        "id": "d8DzD7KMu6W7"
      },
      "source": [
        "7.What is the purpose of the @app.route() decorator in Flask\n",
        "- The @app.route() decorator is used to link a URL path to a Python function in your Flask application. This process is called routing.\n",
        "\n",
        "- Why it's important:\n",
        "  - It defines the route (the URL) the app should respond to.\n",
        "\n",
        "  - It binds a view function to that route.\n",
        "\n",
        "  - It allows your app to serve different pages or actions based on the URL.\n",
        "\n"
      ]
    },
    {
      "cell_type": "markdown",
      "metadata": {
        "id": "RZRVN5TGvLb7"
      },
      "source": [
        "8.What is the difference between GET and POST HTTP methods\n",
        "- The GET and POST methods are two of the most commonly used HTTP methods, each serving a different purpose in web development. The GET method is primarily used to retrieve data from a server. When a GET request is made, any data sent with it is included in the URL as query parameters, making it visible in the browser’s address bar. Because of this, GET requests can be bookmarked and cached, and they have limitations on the amount of data that can be sent, due to URL length restrictions.\n",
        "\n",
        "- In contrast, the POST method is used to send data to the server, typically to create or update resources. The data in a POST request is sent in the request body, which makes it invisible in the URL and suitable for sending sensitive or large amounts of information. POST requests are not cached, not bookmarkable, and they are not idempotent, meaning repeating the same request may result in different outcomes"
      ]
    },
    {
      "cell_type": "markdown",
      "metadata": {
        "id": "QJ9Xct6LvgIW"
      },
      "source": [
        "9.How do you handle errors in Flask APIs\n",
        "- Handling errors in Flask APIs is an important part of building a reliable and user-friendly application. Flask provides several ways to catch and respond to errors gracefully, so your API doesn't just crash or return confusing messages. Here's a theoretical explanation of how it's typically done:\n",
        "\n",
        "- Using HTTP Status Codes\n",
        "\n",
        "  - In a RESTful API, you should return appropriate HTTP status codes to indicate success or failure. For example:\n",
        "\n",
        "    - 200 OK – success\n",
        "\n",
        "    - 400 Bad Request – invalid input\n",
        "\n",
        "    - 404 Not Found – resource doesn’t exist\n",
        "\n",
        "    - 500 Internal Server Error – general server error"
      ]
    },
    {
      "cell_type": "markdown",
      "metadata": {
        "id": "tXv9JF4ywCex"
      },
      "source": [
        "10.How do you connect Flask to a SQL database\n",
        "- Connecting Flask to a SQL database allows your application to store and retrieve data dynamically. Here’s a theoretical overview of how this is typically done:\n",
        "\n",
        "- To connect Flask to a SQL database:\n",
        "\n",
        "    - Install and configure Flask-SQLAlchemy\n",
        "\n",
        "    - Define models as Python classes\n",
        "\n",
        "    - Create tables with db.create_all()\n",
        "\n",
        "    - Use SQLAlchemy to perform CRUD operations"
      ]
    },
    {
      "cell_type": "markdown",
      "metadata": {
        "id": "9fEKOYltwXzM"
      },
      "source": [
        "11.What is the role of Flask-SQLAlchemy\n",
        "- The role of Flask-SQLAlchemy is to make it easier to work with databases in a Flask application by integrating SQLAlchemy, a powerful Object Relational Mapper (ORM), directly with Flask.\n",
        "\n",
        "- in simple terms:\n",
        "\n",
        "  - Flask-SQLAlchemy acts as a bridge between your Flask app and a relational database (like SQLite, MySQL, or PostgreSQL), allowing you to interact with your database using Python classes and objects instead of raw SQL queries.\n",
        "\n",
        "- Key Roles and Benefits of Flask-SQLAlchemy:\n",
        "ORM Support:\n",
        "\n",
        "    - Lets you define database tables as Python classes (models).\n",
        "\n",
        "      - You work with objects, not SQL queries — making code more readable and Pythonic.\n",
        "\n",
        "- Simplified Setup:\n",
        "\n",
        "  - Handles configuration, connection, and session management automatically within Flask.\n",
        "\n",
        "  - CRUD Operations Made Easy:\n",
        "\n",
        "  - Create, read, update, and delete database records with simple method calls like:\n"
      ]
    },
    {
      "cell_type": "markdown",
      "metadata": {
        "id": "SaDZj6Mfw6HL"
      },
      "source": [
        "12.What are Flask blueprints, and how are they useful\n",
        "- Flask Blueprints are a way to organize and structure a Flask application into smaller, modular components. They allow you to break a large application into reusable sections, each with its own routes, views, templates, and static files.\n",
        "\n",
        "- What is a Flask Blueprint?\n",
        "  - A Blueprint in Flask is like a mini-application or module. Instead of writing all routes and logic in a single file, you can define them inside different blueprints and then register those blueprints with the main application."
      ]
    },
    {
      "cell_type": "markdown",
      "metadata": {
        "id": "r3TgaBE1yJXn"
      },
      "source": [
        "13.What is the purpose of Flask's request object\n",
        "- The purpose of Flask's request object is to provide access to incoming request data in a Flask web application. It lets you interact with the data sent by the client (like a browser or API consumer) when they make a request to your server.\n",
        "\n",
        "1.Access form data (from POST requests)"
      ]
    },
    {
      "cell_type": "code",
      "execution_count": null,
      "metadata": {
        "id": "ckgJoEOWyUpd"
      },
      "outputs": [],
      "source": [
        "from flask import request\n",
        "\n",
        "@app.route('/submit', methods=['POST'])\n",
        "def submit():\n",
        "    name = request.form['name']  # Get form input with name=\"name\"\n",
        "    return f\"Hello, {name}!\"\n"
      ]
    },
    {
      "cell_type": "markdown",
      "metadata": {
        "id": "bzlDg5E-yWsP"
      },
      "source": [
        "14.How do you create a RESTful API endpoint using Flask\n",
        "- Creating a RESTful API endpoint using Flask is actually pretty straightforward. Here's a step-by-step on how to do it.\n",
        "\n",
        "1.Set Up the Flask Application\n",
        "  - Start by importing the Flask class and creating an instance of the Flask app. This app serves as the central object where routes (endpoints) are registered.\n",
        "\n",
        "2.Define Routes (Endpoints)\n",
        "  - In Flask, you use the @app.route() decorator to define a URL route and associate it with a function. Each function represents an endpoint and typically corresponds to a specific HTTP method such as:\n",
        "\n",
        "    - GET – Retrieve data from the server.\n",
        "\n",
        "    - POST – Submit new data to the server.\n",
        "\n",
        "    - PUT – Update existing data.\n",
        "\n",
        "    - DELETE – Remove data.\n",
        "\n",
        "3.Handle Request Data\n",
        "  - You can access data sent by the client using the request object:\n",
        "\n",
        "    - request.args – for query parameters (GET).\n",
        "\n",
        "    - request.form – for form data (POST).\n",
        "\n",
        "    - request.get_json() – for JSON payloads (API requests).\n",
        "\n",
        "4.Return Responses\n",
        "  - Use the jsonify() function to return structured JSON responses. This ensures the API returns data in a format that's easy for clients (like frontend apps or other services) to consume.\n",
        "\n",
        "5.Use Status Codes\n",
        "\n",
        "- Always return appropriate HTTP status codes:\n",
        "\n",
        "    - 200 OK for successful GET requests\n",
        "\n",
        "    - 201 Created for successful POST requests\n",
        "\n",
        "    - 204 No Content for successful DELETE operations\n",
        "\n",
        "    - 404 Not Found when a resource doesn't exist\n",
        "\n",
        "6.Run the App\n",
        "  - Use app.run() to start the development server and make the endpoints accessible.\n"
      ]
    },
    {
      "cell_type": "markdown",
      "metadata": {
        "id": "7Os9pyUkzmIZ"
      },
      "source": [
        "15.What is the purpose of Flask's jsonify() function\n",
        "- Flask's jsonify() function is used to convert Python data structures (like dictionaries and lists) into JSON format and return them as a Flask Response object with the correct MIME type (application/json).\n",
        "\n",
        "- Purpose of jsonify():\n",
        "  - Convert Python → JSON: It serializes Python objects (like dict, list, etc.) into a JSON-formatted string.\n",
        "\n",
        "  - Set correct headers: It automatically sets the Content-Type header to application/json, which tells the client that the response is in JSON format.\n",
        "\n",
        "  - Return as a Response object: It wraps the JSON string in a Flask Response object, making it ready to return from a view function."
      ]
    },
    {
      "cell_type": "markdown",
      "metadata": {
        "id": "Xl4YmPTgz18N"
      },
      "source": [
        "16.Explain Flask’s url_for() function\n",
        "- Flask’s url_for() function is used to dynamically build URLs for your application based on the name of the view function, rather than hardcoding the URL paths.\n",
        "\n",
        "- Why it's useful:\n",
        "  - ✅ Avoid hardcoding URLs – If the URL changes later, you only have to update it in one place (the route definition).\n",
        "\n",
        "  - ✅ Generates correct URLs – Especially helpful when your app is hosted in a subdirectory or uses blueprints.\n",
        "\n",
        "  - ✅ Pass parameters – You can pass arguments to build URLs with dynamic parts."
      ]
    },
    {
      "cell_type": "markdown",
      "metadata": {
        "id": "RuqEcsTN0DNE"
      },
      "source": [
        "17.M How does Flask handle static files (CSS, JavaScript, etc.)\n",
        "- Reserved URL Path /static\n",
        "\n",
        "  - Flask reserves the /static route to serve static files. When a request comes in for something like /static/style.css, Flask checks the static_folder directory (by default, it's a folder named static).\n",
        "\n",
        "- File Serving via WSGI\n",
        "  - Under the hood, Flask uses a WSGI middleware called SharedDataMiddleware to serve static files during development.\n",
        "  - This middleware maps URL paths (like /static/...) to real file paths on the filesystem and handles serving those files as HTTP responses.\n",
        "\n",
        "- No static in production (usually)\n",
        "  - Flask is not optimized to serve static files in production. In real deployments, a web server like Nginx or Apache handles static files more efficiently, and Flask is used only for dynamic content.\n",
        "\n"
      ]
    },
    {
      "cell_type": "markdown",
      "metadata": {
        "id": "pYeL9XOO0sNm"
      },
      "source": [
        "18.M What is an API specification, and how does it help in building a Flask API\n",
        "- An API specification is a blueprint or contract that defines how an API should behave. It describes:\n",
        "\n",
        "  - What endpoints are available (/users, /login, etc.)\n",
        "\n",
        "  - What HTTP methods each endpoint supports (GET, POST, etc.)\n",
        "\n",
        "  - What data the API expects (query parameters, JSON body, headers)\n",
        "\n",
        "  - What the responses look like (status codes, response format)\n",
        "\n",
        "  - Any authentication or security requirements"
      ]
    },
    {
      "cell_type": "markdown",
      "metadata": {
        "id": "S7vDnX7i1B-R"
      },
      "source": [
        "19.What are HTTP status codes, and why are they important in a Flask API\n",
        "- HTTP status codes are 3-digit numbers returned by a web server (or API) to indicate the result of a client’s request.\n",
        "\n",
        "They’re part of the HTTP response and help the client (like a browser, app, or API consumer) understand what happened.\n",
        "\n",
        "- In a Flask API, they help:\n",
        "\n",
        "  - ✅ Communicate success or failure clearly\n",
        "Clients know whether their request worked, failed, or needs fixing.\n",
        "\n",
        "  - ✅ Enable error handling on the client side\n",
        "Apps can show helpful messages (e.g., “Invalid password” for 401, or “Item not found” for 404).\n",
        "\n",
        "  - ✅ Make your API more RESTful and standardized\n",
        "Using proper status codes makes your API predictable and easier to integrate with.\n",
        "\n"
      ]
    },
    {
      "cell_type": "markdown",
      "metadata": {
        "id": "feYQMd1f1UKK"
      },
      "source": [
        "20.How do you handle POST requests in Flask\n",
        "- Handling POST requests in Flask is all about:\n",
        "\n",
        "  - Accepting data from the client (form data, JSON, etc.)\n",
        "\n",
        "  - Processing that data (e.g., saving to a database)\n",
        "\n",
        "  - Sending a response back (like confirmation or created resource)"
      ]
    },
    {
      "cell_type": "markdown",
      "metadata": {
        "id": "VjnQ-Q-K1qLs"
      },
      "source": [
        "21.How would you secure a Flask API\n",
        "- 1. Use Authentication\n",
        "  - Make sure only authenticated users can access protected endpoints.\n",
        "\n",
        "  - Token-based auth (e.g., JWT) – Common for APIs\n",
        "\n",
        "  - Use Authorization headers\n",
        "\n",
        "  - Flask Tools: Flask-JWT-Extended, Flask-Login, or OAuth2 via Authlib\n",
        "\n",
        "- 2. Use Authorization\n",
        "  - Make sure users only access what they’re allowed to.\n",
        "\n",
        "  - Example: Admins can delete users, regular users can't.\n",
        "\n",
        "  - Can be implemented via roles or scopes inside your JWT or session.\n",
        "\n",
        "- 3. Use HTTPS (Not HTTP!)\n",
        "  - Never send sensitive data over plain HTTP.\n",
        "\n",
        "  - Use HTTPS in production (via a reverse proxy like Nginx or a platform like Heroku, AWS, etc.)\n"
      ]
    },
    {
      "cell_type": "markdown",
      "metadata": {
        "id": "CFc5Vxfn2Qll"
      },
      "source": [
        "22.What is the significance of the Flask-RESTful extension\n",
        "- The Flask-RESTful extension is a powerful add-on for Flask that helps you build REST APIs faster and cleaner. It simplifies the process of creating APIs by adding structure, organization, and helpful tools on top of Flask’s core features.\n",
        "\n",
        "- Organized Resource-Based Structure\n",
        "  - Instead of writing all logic inside route functions, Flask-RESTful lets you define resources as Python classes:\n",
        "\n",
        "- Automatic Method Handling\n",
        "  - You can define methods like get(), post(), put(), delete() directly inside your resource class — Flask-RESTful automatically routes the HTTP methods."
      ]
    },
    {
      "cell_type": "markdown",
      "metadata": {
        "id": "x4JTc5nU2qf4"
      },
      "source": [
        "23.What is the role of Flask’s session object?\n",
        "- The session object in Flask is used to store data about a user across multiple requests — kind of like a mini, secure dictionary that lives on the server side for each client.\n",
        "\n",
        "- Why Is It Useful?\n",
        "  - HTTP is stateless, meaning it doesn’t remember who you are between requests.\n",
        "session solves that by helping Flask remember information about a user, like:\n",
        "\n",
        "  - Are they logged in?\n",
        "\n",
        "  - What’s in their cart?\n",
        "\n",
        "  - Preferences or settings\n",
        "\n",
        "- How Does It Work?\n",
        "  - Flask stores session data in a signed cookie on the client’s browser.\n",
        "  - That cookie is:\n",
        "\n",
        "    - Encrypted (so users can't read it)\n",
        "\n",
        "    - Signed (so users can't tamper with it)\n"
      ]
    },
    {
      "cell_type": "markdown",
      "metadata": {
        "id": "znnYWxDK3RtG"
      },
      "source": [
        "# Practical Questions"
      ]
    },
    {
      "cell_type": "markdown",
      "metadata": {
        "id": "aQMyXs2x3VeN"
      },
      "source": [
        "1.How do you create a basic Flask application"
      ]
    },
    {
      "cell_type": "code",
      "execution_count": null,
      "metadata": {
        "colab": {
          "background_save": true
        },
        "id": "Qhk89hoo3aNe"
      },
      "outputs": [],
      "source": [
        "from flask import Flask\n",
        "\n",
        "app = Flask(__name__)  # create the Flask app\n",
        "\n",
        "@app.route('/')         # define a route\n",
        "def home():\n",
        "    return \"Hello, Flask!\"  # response shown in browser\n",
        "\n",
        "if __name__ == '__main__':\n",
        "    app.run(debug=True)  # start the development server\n"
      ]
    },
    {
      "cell_type": "markdown",
      "metadata": {
        "id": "wMyBizF9lVtH"
      },
      "source": [
        "2.How do you serve static files like images or CSS in Flask"
      ]
    },
    {
      "cell_type": "code",
      "execution_count": null,
      "metadata": {
        "id": "_8xtv39ylaoS"
      },
      "outputs": [],
      "source": [
        "/your_project\n",
        "    /static\n",
        "        /css\n",
        "            style.css\n",
        "        /images\n",
        "            logo.png\n",
        "        /js\n",
        "            script.js\n",
        "    /templates\n",
        "        index.html\n",
        "    app.py\n",
        "<!-- Linking CSS -->\n",
        "<link rel=\"stylesheet\" type=\"text/css\" href=\"{{ url_for('static', filename='css/style.css') }}\">\n",
        "\n",
        "<!-- Adding an Image -->\n",
        "<img src=\"{{ url_for('static', filename='images/logo.png') }}\" alt=\"Logo\">\n",
        "\n",
        "<!-- Linking JavaScript -->\n",
        "<script src=\"{{ url_for('static', filename='js/script.js') }}\"></script>\n",
        "from flask import Flask, render_template\n",
        "\n",
        "app = Flask(__name__)\n",
        "\n",
        "@app.route('/')\n",
        "def home():\n",
        "    return render_template('index.html')\n",
        "\n",
        "if __name__ == '__main__':\n",
        "    app.run(debug=True)\n",
        "\n"
      ]
    },
    {
      "cell_type": "markdown",
      "metadata": {
        "id": "mduEoNBwl1pY"
      },
      "source": [
        "3.How do you define different routes with different HTTP methods in Flask"
      ]
    },
    {
      "cell_type": "code",
      "execution_count": null,
      "metadata": {
        "colab": {
          "background_save": true
        },
        "id": "3Vj7z9lUmU1e"
      },
      "outputs": [],
      "source": [
        "from flask import Flask, request\n",
        "\n",
        "app = Flask(__name__)\n",
        "\n",
        "@app.route('/', methods=['GET'])\n",
        "def home():\n",
        "    return \"Welcome to the Home Page\"\n",
        "\n",
        "@app.route('/submit', methods=['POST'])\n",
        "def submit():\n",
        "    data = request.form['name']\n",
        "    return f\"Received: {data}\"\n",
        "\n",
        "@app.route('/update', methods=['PUT'])\n",
        "def update():\n",
        "    return \"Update request received\"\n",
        "\n",
        "@app.route('/delete', methods=['DELETE'])\n",
        "def delete():\n",
        "    return \"Delete request received\"\n",
        "\n",
        "if __name__ == '__main__':\n",
        "    app.run(debug=True)\n"
      ]
    },
    {
      "cell_type": "markdown",
      "metadata": {
        "id": "z7srMI46mXR7"
      },
      "source": [
        "4.How do you render HTML templates in Flask"
      ]
    },
    {
      "cell_type": "code",
      "execution_count": null,
      "metadata": {
        "id": "iDaQKtjjmhUI"
      },
      "outputs": [],
      "source": [
        "<!DOCTYPE html>\n",
        "<html lang=\"en\">\n",
        "<head>\n",
        "    <meta charset=\"UTF-8\">\n",
        "    <meta name=\"viewport\" content=\"width=device-width, initial-scale=1.0\">\n",
        "    <title>Flask Template Example</title>\n",
        "</head>\n",
        "<body>\n",
        "    <h1>Welcome to Flask!</h1>\n",
        "    <p>Hello, {{ name }}!</p>\n",
        "</body>\n",
        "</html>\n",
        "from flask import Flask, render_template\n",
        "\n",
        "app = Flask(__name__)\n",
        "\n",
        "@app.route('/')\n",
        "def home():\n",
        "    return render_template('index.html', name=\"John Doe\")  # Passing a variable\n",
        "\n",
        "if __name__ == '__main__':\n",
        "    app.run(debug=True)\n",
        "@app.route('/user/<username>')\n",
        "def user_profile(username):\n",
        "    return render_template('index.html', name=username)\n",
        "<!DOCTYPE html>\n",
        "<html lang=\"en\">\n",
        "<head>\n",
        "    <title>{% block title %}Flask App{% endblock %}</title>\n",
        "</head>\n",
        "<body>\n",
        "    <header>\n",
        "        <h1>Flask Website</h1>\n",
        "    </header>\n",
        "    <main>\n",
        "        {% block content %}{% endblock %}\n",
        "    </main>\n",
        "</body>\n",
        "</html>\n",
        "@app.route('/about')\n",
        "def about():\n",
        "    return render_template('about.html')\n",
        "\n"
      ]
    },
    {
      "cell_type": "markdown",
      "metadata": {
        "id": "qnlOyflCm7q7"
      },
      "source": [
        "5.How can you generate URLs for routes in Flask using url_for"
      ]
    },
    {
      "cell_type": "code",
      "execution_count": null,
      "metadata": {
        "id": "X2fyP-vqnAho"
      },
      "outputs": [],
      "source": [
        "from flask import Flask, url_for\n",
        "\n",
        "app = Flask(__name__)\n",
        "\n",
        "@app.route('/home')\n",
        "def home():\n",
        "    return \"Welcome to the Home Page\"\n",
        "\n",
        "with app.test_request_context():\n",
        "    print(url_for('home'))  # Output: /home\n",
        "@app.route('/user/<username>')\n",
        "def profile(username):\n",
        "    return f\"Profile of {username}\"\n",
        "\n",
        "with app.test_request_context():\n",
        "    print(url_for('profile', username='john'))  # Output: /user/john\n",
        "with app.test_request_context():\n",
        "    print(url_for('home', page=2))  # Output: /home?page=2\n",
        "with app.test_request_context():\n",
        "    print(url_for('static', filename='css/style.css'))  # Output: /static/css/style.css\n"
      ]
    },
    {
      "cell_type": "markdown",
      "source": [
        "6.How do you handle forms in Flask"
      ],
      "metadata": {
        "id": "DJ8sP_HstTxp"
      }
    },
    {
      "cell_type": "code",
      "source": [
        "from flask import Flask, render_template, request\n",
        "\n",
        "app = Flask(__name__)\n",
        "\n",
        "@app.route(\"/\", methods=[\"GET\", \"POST\"])\n",
        "def index():\n",
        "    if request.method == \"POST\":\n",
        "        username = request.form.get(\"username\")\n",
        "        password = request.form.get(\"password\")\n",
        "        return f\"Received: {username}, {password}\"\n",
        "    return '''\n",
        "        <form method=\"POST\">\n",
        "            Username: <input type=\"text\" name=\"username\"><br>\n",
        "            Password: <input type=\"password\" name=\"password\"><br>\n",
        "            <input type=\"submit\" value=\"Submit\">\n",
        "        </form>\n",
        "    '''\n",
        "\n",
        "if __name__ == \"__main__\":\n",
        "    app.run(debug=True)\n"
      ],
      "metadata": {
        "id": "glcUtNQQtXQE"
      },
      "execution_count": null,
      "outputs": []
    },
    {
      "cell_type": "markdown",
      "source": [
        "7.How can you validate form data in Flask\n"
      ],
      "metadata": {
        "id": "mUs8TgCMtfZh"
      }
    },
    {
      "cell_type": "code",
      "source": [
        "from flask import Flask, render_template, request, redirect, url_for, flash\n",
        "from flask_wtf import FlaskForm\n",
        "from wtforms import StringField, PasswordField, SubmitField\n",
        "from wtforms.validators import DataRequired, Email, Length\n",
        "\n",
        "app = Flask(__name__)\n",
        "app.config['SECRET_KEY'] = 'your_secret_key'\n",
        "\n",
        "class RegistrationForm(FlaskForm):\n",
        "    username = StringField('Username', validators=[DataRequired(), Length(min=4, max=20)])\n",
        "    email = StringField('Email', validators=[DataRequired(), Email()])\n",
        "    password = PasswordField('Password', validators=[DataRequired(), Length(min=6)])\n",
        "    submit = SubmitField('Register')\n",
        "@app.route('/register', methods=['GET', 'POST'])\n",
        "def register():\n",
        "    form = RegistrationForm()\n",
        "\n",
        "    if form.validate_on_submit():\n",
        "        flash(f'Account created for {form.username.data}!', 'success')\n",
        "        return redirect(url_for('home'))  # Redirect to home page\n",
        "\n",
        "    return render_template('register.html', form=form)\n",
        "<!DOCTYPE html>\n",
        "<html lang=\"en\">\n",
        "<head>\n",
        "    <title>Register</title>\n",
        "</head>\n",
        "<body>\n",
        "    <form method=\"POST\">\n",
        "        {{ form.hidden_tag() }}  <!-- CSRF protection -->\n",
        "        <p>{{ form.username.label }} {{ form.username }}</p>\n",
        "        <p>{{ form.email.label }} {{ form.email }}</p>\n",
        "        <p>{{ form.password.label }} {{ form.password }}</p>\n",
        "        <p>{{ form.submit }}</p>\n",
        "\n",
        "        {% for error in form.errors.values() %}\n",
        "            {% for message in error %}\n",
        "                <p style=\"color: red;\">{{ message }}</p>\n",
        "            {% endfor %}\n",
        "        {% endfor %}\n",
        "    </form>\n",
        "</body>\n",
        "</html>\n"
      ],
      "metadata": {
        "id": "z3F7XG1Xtjmh"
      },
      "execution_count": null,
      "outputs": []
    },
    {
      "cell_type": "markdown",
      "source": [
        "8.How do you manage sessions in Flask"
      ],
      "metadata": {
        "id": "GjaR9-E0tvhO"
      }
    },
    {
      "cell_type": "code",
      "source": [
        "from flask import Flask, session\n",
        "\n",
        "app = Flask(__name__)\n",
        "app.config['SECRET_KEY'] = 'your_secret_key'  # Required for session security\n",
        "from flask import Flask, session, redirect, url_for, request\n",
        "\n",
        "app = Flask(__name__)\n",
        "app.config['SECRET_KEY'] = 'supersecretkey'  # Needed for session security\n",
        "\n",
        "@app.route('/')\n",
        "def index():\n",
        "    if 'username' in session:\n",
        "        return f\"Logged in as {session['username']} <a href='/logout'>Logout</a>\"\n",
        "    return \"You are not logged in <a href='/login'>Login</a>\"\n",
        "\n",
        "@app.route('/login', methods=['GET', 'POST'])\n",
        "def login():\n",
        "    if request.method == 'POST':\n",
        "        session['username'] = request.form['username']\n",
        "        return redirect(url_for('index'))\n",
        "    return '''\n",
        "        <form method=\"post\">\n",
        "            <input type=\"text\" name=\"username\" placeholder=\"Enter username\">\n",
        "            <input type=\"submit\" value=\"Login\">\n",
        "        </form>\n",
        "    '''\n",
        "\n",
        "@app.route('/logout')\n",
        "def logout():\n",
        "    session.pop('username', None)  # Remove session data\n",
        "    return redirect(url_for('index'))\n",
        "\n",
        "if __name__ == '__main__':\n",
        "    app.run(debug=True)\n",
        "app.config['SESSION_PERMANENT'] = False  # False: Expires when browser closes\n",
        "app.config['SESSION_TYPE'] = 'filesystem'  # Default: Stores in cookies\n",
        "from flask import Flask, session\n",
        "from flask_session import Session\n",
        "\n",
        "app = Flask(__name__)\n",
        "app.config['SECRET_KEY'] = 'supersecretkey'\n",
        "app.config['SESSION_TYPE'] = 'filesystem'  # Store session on server\n",
        "Session(app)\n",
        "\n",
        "@app.route('/set_session')\n",
        "def set_session():\n",
        "    session['username'] = 'JohnDoe'\n",
        "    return \"Session data set!\"\n",
        "\n",
        "@app.route('/get_session')\n",
        "def get_session():\n",
        "    return f\"Username in session: {session.get('username', 'Not logged in')}\"\n",
        "\n",
        "if __name__ == '__main__':\n",
        "    app.run(debug=True)\n",
        "from datetime import timedelta\n",
        "\n",
        "app.config['PERMANENT_SESSION_LIFETIME'] = timedelta(minutes=30)  # Auto-expire in 30 mins\n",
        "\n",
        "@app.route('/set_permanent')\n",
        "def set_permanent():\n",
        "    session.permanent = True  # Enables session lifetime setting\n",
        "    session['username'] = 'JaneDoe'\n",
        "    return \"Permanent session set!\"\n"
      ],
      "metadata": {
        "id": "HAd5JOaitzaA"
      },
      "execution_count": null,
      "outputs": []
    },
    {
      "cell_type": "markdown",
      "source": [
        "9. How do you redirect to a different route in Flask"
      ],
      "metadata": {
        "id": "3XwaqNcNt_mx"
      }
    },
    {
      "cell_type": "code",
      "source": [
        "from flask import Flask, redirect, url_for\n",
        "\n",
        "app = Flask(__name__)\n",
        "\n",
        "@app.route('/')\n",
        "def home():\n",
        "    return \"Welcome to the Home Page! <a href='/go-to-dashboard'>Go to Dashboard</a>\"\n",
        "\n",
        "@app.route('/dashboard')\n",
        "def dashboard():\n",
        "    return \"This is the Dashboard!\"\n",
        "\n",
        "@app.route('/go-to-dashboard')\n",
        "def go_to_dashboard():\n",
        "    return redirect(url_for('dashboard'))  # Redirect to the dashboard route\n",
        "\n",
        "if __name__ == '__main__':\n",
        "    app.run(debug=True)\n",
        "@app.route('/user/<name>')\n",
        "def user_profile(name):\n",
        "    return f\"User Profile: {name}\"\n",
        "\n",
        "@app.route('/redirect-to-user/<name>')\n",
        "def redirect_to_user(name):\n",
        "    return redirect(url_for('user_profile', name=name))  # Redirect to the user page dynamically\n",
        "@app.route('/temporary-redirect')\n",
        "def temp_redirect():\n",
        "    return redirect(url_for('dashboard'), code=302)  # Temporary redirect\n",
        "\n",
        "@app.route('/permanent-redirect')\n",
        "def perm_redirect():\n",
        "    return redirect(url_for('dashboard'), code=301)  # Permanent redirect\n"
      ],
      "metadata": {
        "id": "TsWv1OqNuC0d"
      },
      "execution_count": null,
      "outputs": []
    },
    {
      "cell_type": "markdown",
      "source": [
        "10.How do you handle errors in Flask (e.g., 404)"
      ],
      "metadata": {
        "id": "uUouTy61uJqB"
      }
    },
    {
      "cell_type": "code",
      "source": [
        "from flask import Flask, render_template\n",
        "\n",
        "app = Flask(__name__)\n",
        "\n",
        "@app.errorhandler(404)\n",
        "def page_not_found(e):\n",
        "    return render_template('404.html'), 404  # Custom error page\n",
        "<!DOCTYPE html>\n",
        "<html>\n",
        "<head>\n",
        "    <title>404 Not Found</title>\n",
        "</head>\n",
        "<body>\n",
        "    <h1>Oops! Page Not Found</h1>\n",
        "    <p>The page you're looking for doesn't exist.</p>\n",
        "    <a href=\"/\">Go to Home</a>\n",
        "</body>\n",
        "</html>\n",
        "@app.errorhandler(400)\n",
        "def bad_request(e):\n",
        "    return \"Bad Request (400)\", 400\n",
        "\n",
        "@app.errorhandler(403)\n",
        "def forbidden(e):\n",
        "    return \"Forbidden (403)\", 403\n",
        "@app.errorhandler(Exception)\n",
        "def handle_exception(e):\n",
        "    return \"An unexpected error occurred\", 500\n",
        "from flask import abort\n",
        "\n",
        "@app.route('/forbidden')\n",
        "def forbidden_route():\n",
        "    abort(403)  # Triggers the 403 error handler\n"
      ],
      "metadata": {
        "id": "5cDCn-TCuOJy"
      },
      "execution_count": null,
      "outputs": []
    },
    {
      "cell_type": "markdown",
      "source": [
        "11. How do you structure a Flask app using Blueprints"
      ],
      "metadata": {
        "id": "K6vi7XLOu6HY"
      }
    },
    {
      "cell_type": "code",
      "source": [
        "/flask_app\n",
        "│── /app\n",
        "│   ├── /blueprints\n",
        "│   │   ├── /auth\n",
        "│   │   │   ├── __init__.py\n",
        "│   │   │   ├── routes.py\n",
        "│   │   │   ├── forms.py  # Optional\n",
        "│   │   │   ├── models.py  # Optional\n",
        "│   │   ├── /dashboard\n",
        "│   │   │   ├── __init__.py\n",
        "│   │   │   ├── routes.py\n",
        "│   ├── templates/\n",
        "│   ├── static/\n",
        "│   ├── __init__.py  # Initialize Flask app\n",
        "│── config.py\n",
        "│── run.py  # Main entry point\n",
        "from flask import Flask\n",
        "from app.blueprints.auth.routes import auth_bp\n",
        "from app.blueprints.dashboard.routes import dashboard_bp\n",
        "\n",
        "def create_app():\n",
        "    app = Flask(__name__)\n",
        "    app.config['SECRET_KEY'] = 'your_secret_key'  # For session handling\n",
        "\n",
        "    # Register blueprints\n",
        "    app.register_blueprint(auth_bp, url_prefix=\"/auth\")\n",
        "    app.register_blueprint(dashboard_bp, url_prefix=\"/dashboard\")\n",
        "\n",
        "    return app\n",
        "from flask import Blueprint, render_template, redirect, url_for\n",
        "\n",
        "auth_bp = Blueprint('auth', __name__, template_folder='templates')\n",
        "\n",
        "@auth_bp.route('/login')\n",
        "def login():\n",
        "    return render_template('login.html')\n",
        "\n",
        "@auth_bp.route('/logout')\n",
        "def logout():\n",
        "    return redirect(url_for('auth.login'))\n",
        "from flask import Blueprint, render_template\n",
        "\n",
        "dashboard_bp = Blueprint('dashboard', __name__, template_folder='templates')\n",
        "\n",
        "@dashboard_bp.route('/')\n",
        "def dashboard_home():\n",
        "    return render_template('dashboard.html')\n",
        "from app import create_app\n",
        "\n",
        "app = create_app()\n",
        "\n",
        "if __name__ == '__main__':\n",
        "    app.run(debug=True)\n",
        "<!DOCTYPE html>\n",
        "<html>\n",
        "<head>\n",
        "    <title>Login</title>\n",
        "</head>\n",
        "<body>\n",
        "    <h1>Login Page</h1>\n",
        "    <a href=\"{{ url_for('dashboard.dashboard_home') }}\">Go to Dashboard</a>\n",
        "</body>\n",
        "</html>\n",
        "<!DOCTYPE html>\n",
        "<html>\n",
        "<head>\n",
        "    <title>Dashboard</title>\n",
        "</head>\n",
        "<body>\n",
        "    <h1>Welcome to Dashboard</h1>\n",
        "    <a href=\"{{ url_for('auth.login') }}\">Logout</a>\n",
        "</body>\n",
        "</html>\n",
        "python run.py\n"
      ],
      "metadata": {
        "id": "W7bfQ2giu9x_"
      },
      "execution_count": null,
      "outputs": []
    },
    {
      "cell_type": "markdown",
      "source": [
        "12.How do you define a custom Jinja filter in Flask"
      ],
      "metadata": {
        "id": "NUHpNtnUvQej"
      }
    },
    {
      "cell_type": "code",
      "source": [
        "from flask import Flask, render_template\n",
        "\n",
        "app = Flask(__name__)\n",
        "\n",
        "# Define custom filter\n",
        "@app.template_filter('capitalize_words')\n",
        "def capitalize_words(s):\n",
        "    return ' '.join(word.capitalize() for word in s.split())\n",
        "\n",
        "@app.route('/')\n",
        "def home():\n",
        "    return render_template('index.html', message=\"hello world from flask\")\n",
        "\n",
        "if __name__ == '__main__':\n",
        "    app.run(debug=True)\n",
        "<!DOCTYPE html>\n",
        "<html>\n",
        "<head>\n",
        "    <title>Custom Jinja Filter</title>\n",
        "</head>\n",
        "<body>\n",
        "    <h1>{{ message | capitalize_words }}</h1>\n",
        "</body>\n",
        "</html>\n",
        "def reverse_string(s):\n",
        "    return s[::-1]\n",
        "\n",
        "app.jinja_env.filters['reverse'] = reverse_string\n",
        "<p>{{ \"hello\" | reverse }}</p>\n",
        "def reverse_string(s):\n",
        "    return s[::-1]\n",
        "\n",
        "def capitalize_words(s):\n",
        "    return ' '.join(word.capitalize() for word in s.split())\n",
        "from flask import Flask\n",
        "from filters import reverse_string, capitalize_words\n",
        "\n",
        "app = Flask(__name__)\n",
        "\n",
        "app.jinja_env.filters['reverse'] = reverse_string\n",
        "app.jinja_env.filters['capitalize_words'] = capitalize_words\n"
      ],
      "metadata": {
        "id": "EUfYIBG1vW5i"
      },
      "execution_count": null,
      "outputs": []
    },
    {
      "cell_type": "markdown",
      "source": [
        "13.How can you redirect with query parameters in Flask"
      ],
      "metadata": {
        "id": "TFy36KfWvlmM"
      }
    },
    {
      "cell_type": "code",
      "source": [
        "from flask import Flask, redirect, url_for, request\n",
        "\n",
        "app = Flask(__name__)\n",
        "\n",
        "@app.route('/')\n",
        "def home():\n",
        "    return \"Welcome! <a href='/redirect-to-dashboard'>Go to Dashboard</a>\"\n",
        "\n",
        "@app.route('/dashboard')\n",
        "def dashboard():\n",
        "    user = request.args.get('user', 'Guest')  # Retrieve query parameter\n",
        "    return f\"Welcome to Dashboard, {user}!\"\n",
        "\n",
        "@app.route('/redirect-to-dashboard')\n",
        "def redirect_to_dashboard():\n",
        "    return redirect(url_for('dashboard', user='JohnDoe'))  # Pass query param\n",
        "\n",
        "if __name__ == '__main__':\n",
        "    app.run(debug=True)\n",
        "@app.route('/redirect-multi')\n",
        "def redirect_multi():\n",
        "    return redirect(url_for('dashboard', user='Alice', role='admin'))\n",
        "http://127.0.0.1:5000/dashboard?user=Alice&role=admin\n",
        "user = request.args.get('user')\n",
        "role = request.args.get('role')\n",
        "@app.route('/preserve-params')\n",
        "def preserve_params():\n",
        "    return redirect(url_for('dashboard', **request.args.to_dict()))\n"
      ],
      "metadata": {
        "id": "i_8qUBYKvm6K"
      },
      "execution_count": null,
      "outputs": []
    },
    {
      "cell_type": "markdown",
      "source": [
        "14.How do you return JSON responses in Flask"
      ],
      "metadata": {
        "id": "FqpxQn5Uvxah"
      }
    },
    {
      "cell_type": "code",
      "source": [
        "from flask import Flask, jsonify\n",
        "\n",
        "app = Flask(__name__)\n",
        "\n",
        "@app.route('/json')\n",
        "def json_response():\n",
        "    data = {\"message\": \"Hello, Flask!\", \"status\": \"success\"}\n",
        "    return jsonify(data)\n",
        "\n",
        "if __name__ == '__main__':\n",
        "    app.run(debug=True)\n",
        "{\n",
        "  \"message\": \"Hello, Flask!\",\n",
        "  \"status\": \"success\"\n",
        "}\n",
        "from flask import Flask, Response, json\n",
        "\n",
        "app = Flask(__name__)\n",
        "\n",
        "@app.route('/manual-json')\n",
        "def manual_json():\n",
        "    data = {\"message\": \"Manual JSON response\"}\n",
        "    response = Response(json.dumps(data), mimetype='application/json')\n",
        "    return response\n",
        "@app.route('/json-status')\n",
        "def json_status():\n",
        "    return jsonify({\"message\": \"Not Found\"}), 404  # Custom status code\n",
        "{\n",
        "  \"message\": \"Not Found\"\n",
        "}\n",
        "@app.route('/json-headers')\n",
        "def json_headers():\n",
        "    response = jsonify({\"message\": \"Hello with headers\"})\n",
        "    response.headers['X-Custom-Header'] = 'CustomValue'\n",
        "    return response\n",
        "@app.route('/json-list')\n",
        "def json_list():\n",
        "    return jsonify([\"apple\", \"banana\", \"cherry\"])\n",
        "[\"apple\", \"banana\", \"cherry\"]\n",
        "@app.errorhandler(404)\n",
        "def not_found(error):\n",
        "    return jsonify({\"error\": \"Page not found\"}), 404\n",
        "{\n",
        "  \"error\": \"Page not found\"\n",
        "}\n"
      ],
      "metadata": {
        "id": "H7wGo2Zxv1RR"
      },
      "execution_count": null,
      "outputs": []
    },
    {
      "cell_type": "markdown",
      "source": [
        "15.How do you capture URL parameters in Flask?"
      ],
      "metadata": {
        "id": "v0g3klg4wMZi"
      }
    },
    {
      "cell_type": "code",
      "source": [
        "from flask import Flask\n",
        "\n",
        "app = Flask(__name__)\n",
        "\n",
        "@app.route('/user/<username>')\n",
        "def show_user(username):\n",
        "    return f\"Hello, {username}!\"\n",
        "\n",
        "if __name__ == '__main__':\n",
        "    app.run(debug=True)\n",
        "@app.route('/post/<int:post_id>')\n",
        "def show_post(post_id):\n",
        "    return f\"Post ID: {post_id}\"\n",
        "@app.route('/product/<string:name>/price/<float:price>')\n",
        "def product_info(name, price):\n",
        "    return f\"Product: {name}, Price: ${price}\"\n"
      ],
      "metadata": {
        "id": "3KAJNQ0WwNun"
      },
      "execution_count": null,
      "outputs": []
    }
  ],
  "metadata": {
    "colab": {
      "provenance": []
    },
    "kernelspec": {
      "display_name": "Python 3",
      "name": "python3"
    },
    "language_info": {
      "name": "python"
    }
  },
  "nbformat": 4,
  "nbformat_minor": 0
}